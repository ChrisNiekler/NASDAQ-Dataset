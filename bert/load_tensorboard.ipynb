{
 "cells": [
  {
   "cell_type": "code",
   "execution_count": null,
   "id": "ad600192",
   "metadata": {},
   "outputs": [],
   "source": [
    "# mount it\n",
    "from google.colab import drive\n",
    "drive.mount('/content/drive')"
   ]
  },
  {
   "cell_type": "code",
   "execution_count": null,
   "id": "4580c4c3",
   "metadata": {},
   "outputs": [],
   "source": [
    "%load_ext tensorboard\n",
    "import os\n",
    "import errno\n",
    "\n",
    "logs = \"/content/drive/MyDrive/0FHWS/FHWS/Models/bert_logs\"\n",
    "logs_exist = os.path.isdir(logs)\n",
    "if logs_exist:\n",
    "  print(\"Files found\")\n",
    "else:\n",
    "  raise FileNotFoundError(errno.ENOENT, os.strerror(errno.ENOENT), logs)"
   ]
  },
  {
   "cell_type": "code",
   "execution_count": null,
   "id": "3ff683d5",
   "metadata": {},
   "outputs": [],
   "source": [
    "%tensorboard --logdir={logs}"
   ]
  }
 ],
 "metadata": {
  "kernelspec": {
   "display_name": "Python 3",
   "language": "python",
   "name": "python3"
  },
  "language_info": {
   "codemirror_mode": {
    "name": "ipython",
    "version": 3
   },
   "file_extension": ".py",
   "mimetype": "text/x-python",
   "name": "python",
   "nbconvert_exporter": "python",
   "pygments_lexer": "ipython3",
   "version": "3.8.8"
  }
 },
 "nbformat": 4,
 "nbformat_minor": 5
}
